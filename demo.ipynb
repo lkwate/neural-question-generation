{
  "nbformat": 4,
  "nbformat_minor": 0,
  "metadata": {
    "colab": {
      "name": "demo.ipynb",
      "provenance": [],
      "collapsed_sections": []
    },
    "kernelspec": {
      "name": "python3",
      "display_name": "Python 3"
    }
  },
  "cells": [
    {
      "cell_type": "code",
      "metadata": {
        "colab": {
          "base_uri": "https://localhost:8080/"
        },
        "id": "aWShT7glxDNz",
        "outputId": "098392ea-8141-4a0b-87d8-f19182f6e206"
      },
      "source": [
        "!git clone https://github.com/lkwate/neural-question-generation.git rl-qg\n",
        "import os\n",
        "os.chdir(\"rl-qg/\")"
      ],
      "execution_count": 1,
      "outputs": [
        {
          "output_type": "stream",
          "text": [
            "Cloning into 'rl-qg'...\n",
            "remote: Enumerating objects: 309, done.\u001b[K\n",
            "remote: Counting objects: 100% (309/309), done.\u001b[K\n",
            "remote: Compressing objects: 100% (227/227), done.\u001b[K\n",
            "remote: Total 309 (delta 139), reused 218 (delta 62), pack-reused 0\u001b[K\n",
            "Receiving objects: 100% (309/309), 41.29 MiB | 19.84 MiB/s, done.\n",
            "Resolving deltas: 100% (139/139), done.\n"
          ],
          "name": "stdout"
        }
      ]
    },
    {
      "cell_type": "code",
      "metadata": {
        "id": "WpER8TMdxbs3"
      },
      "source": [
        "!pip install -r requirements.txt"
      ],
      "execution_count": null,
      "outputs": []
    },
    {
      "cell_type": "code",
      "metadata": {
        "id": "59mr5h_9xdeN"
      },
      "source": [
        "from model import Model"
      ],
      "execution_count": 2,
      "outputs": []
    },
    {
      "cell_type": "code",
      "metadata": {
        "id": "QC5vRvzKxxrs",
        "colab": {
          "base_uri": "https://localhost:8080/"
        },
        "outputId": "a27550bd-7f2b-459e-e1e5-f532f79cf7b0"
      },
      "source": [
        "rmodel = Model()"
      ],
      "execution_count": 3,
      "outputs": [
        {
          "output_type": "stream",
          "text": [
            "Some weights of the model checkpoint at /content/rl-qg/model/ were not used when initializing T5ForConditionalGeneration: ['decoder.block.0.layer.1.EncDecAttention.relative_attention_bias.weight']\n",
            "- This IS expected if you are initializing T5ForConditionalGeneration from the checkpoint of a model trained on another task or with another architecture (e.g. initializing a BertForSequenceClassification model from a BertForPreTraining model).\n",
            "- This IS NOT expected if you are initializing T5ForConditionalGeneration from the checkpoint of a model that you expect to be exactly identical (initializing a BertForSequenceClassification model from a BertForSequenceClassification model).\n"
          ],
          "name": "stderr"
        }
      ]
    },
    {
      "cell_type": "code",
      "metadata": {
        "id": "fZ_cu1Eez58_"
      },
      "source": [
        "context = \"Between the northern coastlands and equatorial Africa is the Sahara desert. Until the end of the \" \\\n",
        "\"last Ice Age (about 8000 B.C.) the Sahara was a fertile grassland. It then started to dry up, much of it\" \\\n",
        "\"remaining habitable until about 2000 B.C. The early inhabitants of the Sahara were probably a mixture of\" \\\n",
        "\"Berbers and Negroes. Recently discovered rock paintings show that cattle keeping was a major occupation in\" \\\n",
        "\"what appears to have been a peaceful life. The paintings also show that music and dancing were important to\" \\\n",
        "\"these ancient Africans - as they are to the modern Negroes.\"\n",
        "answer = \"Berbers and Negroes\""
      ],
      "execution_count": 4,
      "outputs": []
    },
    {
      "cell_type": "code",
      "metadata": {
        "id": "Dwjdyzf4GZjR",
        "colab": {
          "base_uri": "https://localhost:8080/",
          "height": 89
        },
        "outputId": "a0c09da8-c979-4a74-8f9c-768ed9dd33e4"
      },
      "source": [
        "rmodel.generate(context, answer)"
      ],
      "execution_count": 5,
      "outputs": [
        {
          "output_type": "stream",
          "text": [
            "/usr/local/lib/python3.6/dist-packages/transformers/models/t5/tokenization_t5.py:184: UserWarning: This sequence already has </s>. In future versions this behavior may lead to duplicated eos tokens being added.\n",
            "  f\"This sequence already has {self.eos_token}. In future versions this behavior may lead to duplicated eos tokens being added.\"\n"
          ],
          "name": "stderr"
        },
        {
          "output_type": "execute_result",
          "data": {
            "application/vnd.google.colaboratory.intrinsic+json": {
              "type": "string"
            },
            "text/plain": [
              "'<pad> Who were the first inhabitants of the Sahara?</s>'"
            ]
          },
          "metadata": {
            "tags": []
          },
          "execution_count": 5
        }
      ]
    },
    {
      "cell_type": "code",
      "metadata": {
        "id": "eljzCsTtPzTB"
      },
      "source": [
        ""
      ],
      "execution_count": null,
      "outputs": []
    }
  ]
}