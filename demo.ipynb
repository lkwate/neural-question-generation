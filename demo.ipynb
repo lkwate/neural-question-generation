{
  "nbformat": 4,
  "nbformat_minor": 0,
  "metadata": {
    "colab": {
      "name": "demo.ipynb",
      "provenance": [],
      "collapsed_sections": []
    },
    "kernelspec": {
      "name": "python3",
      "display_name": "Python 3"
    }
  },
  "cells": [
    {
      "cell_type": "code",
      "metadata": {
        "colab": {
          "base_uri": "https://localhost:8080/"
        },
        "id": "aWShT7glxDNz",
        "outputId": "7b500d5c-9746-4719-c0ee-1a2bd2733c3c"
      },
      "source": [
        "!git clone https://github.com/lkwate/neural-question-generation.git rl-qg\n",
        "import os\n",
        "os.chdir(\"rl-qg/\")"
      ],
      "execution_count": null,
      "outputs": [
        {
          "output_type": "stream",
          "text": [
            "Cloning into 'rl-qg'...\n",
            "remote: Enumerating objects: 309, done.\u001b[K\n",
            "remote: Counting objects: 100% (309/309), done.\u001b[K\n",
            "remote: Compressing objects: 100% (227/227), done.\u001b[K\n",
            "remote: Total 309 (delta 139), reused 218 (delta 62), pack-reused 0\u001b[K\n",
            "Receiving objects: 100% (309/309), 41.29 MiB | 20.27 MiB/s, done.\n",
            "Resolving deltas: 100% (139/139), done.\n"
          ],
          "name": "stdout"
        }
      ]
    },
    {
      "cell_type": "code",
      "metadata": {
        "id": "WpER8TMdxbs3"
      },
      "source": [
        "!pip install -r requirements.txt"
      ],
      "execution_count": null,
      "outputs": []
    },
    {
      "cell_type": "code",
      "metadata": {
        "id": "59mr5h_9xdeN"
      },
      "source": [
        "from model import Model"
      ],
      "execution_count": null,
      "outputs": []
    },
    {
      "cell_type": "code",
      "metadata": {
        "id": "QC5vRvzKxxrs"
      },
      "source": [
        "rmodel = Model()"
      ],
      "execution_count": null,
      "outputs": []
    },
    {
      "cell_type": "code",
      "metadata": {
        "id": "fZ_cu1Eez58_"
      },
      "source": [
        "context = \"Between the northern coastlands and equatorial Africa is the Sahara desert. Until the end of the \" \\\n",
        "\"last Ice Age (about 8000 B.C.) the Sahara was a fertile grassland. It then started to dry up, much of it\" \\\n",
        "\"remaining habitable until about 2000 B.C. The early inhabitants of the Sahara were probably a mixture of\" \\\n",
        "\"Berbers and Negroes. Recently discovered rock paintings show that cattle keeping was a major occupation in\" \\\n",
        "\"what appears to have been a peaceful life. The paintings also show that music and dancing were important to\" \\\n",
        "\"these ancient Africans - as they are to the modern Negroes.\"\n",
        "Answer = \"Berbers and Negroes\""
      ],
      "execution_count": null,
      "outputs": []
    },
    {
      "cell_type": "code",
      "metadata": {
        "id": "Dwjdyzf4GZjR"
      },
      "source": [
        "model.generate(context, answer)"
      ],
      "execution_count": null,
      "outputs": []
    }
  ]
}